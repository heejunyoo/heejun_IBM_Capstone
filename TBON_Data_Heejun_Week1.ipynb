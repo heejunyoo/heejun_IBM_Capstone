{
 "cells": [
  {
   "cell_type": "markdown",
   "metadata": {
    "collapsed": true
   },
   "source": [
    "# The Battle of Neighborhood - Week 1"
   ]
  },
  {
   "cell_type": "markdown",
   "metadata": {},
   "source": [
    "## Data\n",
    "In this project, the City called Seoul will be the main place to analyse."
   ]
  },
  {
   "cell_type": "markdown",
   "metadata": {},
   "source": [
    "#### Data 1: Seoul Geolocation data with district, Neighborhood\n",
    "\n",
    "Seoul has 25 Districts and 425 Neighborhoods. South Korea government proceeding a big data project to document these data as structured one, and it is sharing through various sources.\n",
    "\n",
    "\n",
    "In this project, structured Seoul districts, neighborhoods geolocation data will be used. \n",
    "\n",
    "\n",
    "* Data is gathered from (sgis.kostat.go.kr)\n",
    "* Data is shared from (https://github.com/vuski/admdongkor)\n",
    "* Data source link is (https://github.com/vuski/admdongkor/blob/master/ver20200101/HangJeongDong_ver20200101.geojson)"
   ]
  },
  {
   "cell_type": "markdown",
   "metadata": {},
   "source": [
    "#### Data 2: Seoul Living population by Datetime, age, district, neighborhood\n",
    "\n",
    "To analyse market in Seoul, living population listed by time, age and places is highly required. As part of the South Korea big data project, Government has signed contract with Korea telecommunication companies like KT, SKT, LGT, and gathered living population data with them. \n",
    "\n",
    "\n",
    "* Data is gathered from (data.seoul.go.kr)\n",
    "* Data source is available from (http://data.seoul.go.kr/dataList/OA-15439/S/1/datasetView.do)"
   ]
  },
  {
   "cell_type": "markdown",
   "metadata": {},
   "source": [
    "#### Data 3: Seoul population by district, neighborhood and age\n",
    "\n",
    "\n",
    "To analyse cleary between employees and registered people, Seoul population data will be utilized. \n",
    "\n",
    "\n",
    "* Data is gathered from (data.seoul.go.kr)\n",
    "* Data source is available from (https://data.seoul.go.kr/dataList/421/S/2/datasetView.do?stcSrl=421)"
   ]
  },
  {
   "cell_type": "markdown",
   "metadata": {},
   "source": [
    "#### Data 4: Seoul geographical coordinates data from Foursquare\n",
    "\n",
    "In this project, Foursquare API will be utilized to gather data of geolocation, various venue data like category, name geolocation and etc. "
   ]
  },
  {
   "cell_type": "code",
   "execution_count": null,
   "metadata": {},
   "outputs": [],
   "source": []
  }
 ],
 "metadata": {
  "kernelspec": {
   "display_name": "Python 3.6",
   "language": "python",
   "name": "python3"
  },
  "language_info": {
   "codemirror_mode": {
    "name": "ipython",
    "version": 3
   },
   "file_extension": ".py",
   "mimetype": "text/x-python",
   "name": "python",
   "nbconvert_exporter": "python",
   "pygments_lexer": "ipython3",
   "version": "3.6.9"
  }
 },
 "nbformat": 4,
 "nbformat_minor": 1
}
