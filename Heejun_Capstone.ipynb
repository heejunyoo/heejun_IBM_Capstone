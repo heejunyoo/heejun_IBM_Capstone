{
  "nbformat": 4,
  "nbformat_minor": 0,
  "metadata": {
    "kernelspec": {
      "display_name": "Python 3.6",
      "language": "python",
      "name": "python3"
    },
    "language_info": {
      "codemirror_mode": {
        "name": "ipython",
        "version": 3
      },
      "file_extension": ".py",
      "mimetype": "text/x-python",
      "name": "python",
      "nbconvert_exporter": "python",
      "pygments_lexer": "ipython3",
      "version": "3.6.9"
    },
    "colab": {
      "name": "Heejun_Capstone.ipynb",
      "provenance": []
    }
  },
  "cells": [
    {
      "cell_type": "markdown",
      "metadata": {
        "id": "PWOIAzHl2gKh",
        "colab_type": "text"
      },
      "source": [
        "# Table from web as Data Frame"
      ]
    },
    {
      "cell_type": "markdown",
      "metadata": {
        "id": "SR1gjRml2gKv",
        "colab_type": "text"
      },
      "source": [
        "## Import Packages\n",
        "I am going to utilize BeautifulSoup, request as web table scraping tool"
      ]
    },
    {
      "cell_type": "code",
      "metadata": {
        "id": "eKIasIOZ2gK1",
        "colab_type": "code",
        "colab": {}
      },
      "source": [
        "import pandas as pd\n",
        "from bs4 import BeautifulSoup as bs\n",
        "import urllib.request\n",
        "import re"
      ],
      "execution_count": 0,
      "outputs": []
    },
    {
      "cell_type": "markdown",
      "metadata": {
        "id": "A2WhKLWY2gLI",
        "colab_type": "text"
      },
      "source": [
        "## Web Scraping"
      ]
    },
    {
      "cell_type": "code",
      "metadata": {
        "id": "s8ooeOd_2gLP",
        "colab_type": "code",
        "colab": {}
      },
      "source": [
        "source = urllib.request.urlopen('https://en.wikipedia.org/wiki/List_of_postal_codes_of_Canada:_M').read()\n",
        "soup = bs(source, 'lxml')"
      ],
      "execution_count": 0,
      "outputs": []
    },
    {
      "cell_type": "markdown",
      "metadata": {
        "id": "49etQMds2gLh",
        "colab_type": "text"
      },
      "source": [
        "## Using 'find, find_all' from BeautifulSoup to get rows and columns"
      ]
    },
    {
      "cell_type": "code",
      "metadata": {
        "id": "w0aaBFak2gLp",
        "colab_type": "code",
        "colab": {}
      },
      "source": [
        "# table = soup.table\n",
        "table = soup.find('table')\n",
        "table_rows = table.find_all('tr')\n",
        "\n",
        "df_table = []\n",
        "\n",
        "for tr in table_rows:\n",
        "    td = tr.find_all('td')\n",
        "    row = [i.text for i in td]\n",
        "    df_table.append(row)"
      ],
      "execution_count": 0,
      "outputs": []
    },
    {
      "cell_type": "markdown",
      "metadata": {
        "id": "kXf_pccI2gL2",
        "colab_type": "text"
      },
      "source": [
        "## list into Data Frame and merge into one column"
      ]
    },
    {
      "cell_type": "code",
      "metadata": {
        "id": "KJK899Yq2gL4",
        "colab_type": "code",
        "colab": {}
      },
      "source": [
        "# set column names\n",
        "df = pd.DataFrame(df_table, columns=['1', '2', '3', '4', '5', '6', '7', '8', '9'])\n",
        "\n",
        "# replace '\\n' string into ''\n",
        "df = df.replace('\\n','', regex=True)\n",
        "\n",
        "# merge all column values into one column\n",
        "df_concat = pd.concat([df, df.unstack().reset_index(drop=True).rename('10')], axis=1)"
      ],
      "execution_count": 0,
      "outputs": []
    },
    {
      "cell_type": "markdown",
      "metadata": {
        "id": "sZXPL3ex2gMA",
        "colab_type": "text"
      },
      "source": [
        "## split value by character length, and ignoring 'Not assigned' value"
      ]
    },
    {
      "cell_type": "code",
      "metadata": {
        "id": "IE6Qzntv2gMG",
        "colab_type": "code",
        "colab": {}
      },
      "source": [
        "# Splitting value by character length into 2 columns\n",
        "df_concat['PostalCode'] = df_concat['10'].str[:3].replace('\\n','', regex=True)\n",
        "df_concat['BN'] = df_concat['10'].str[3:]\n",
        "\n",
        "# Select 2 columns only for easy preprocessing\n",
        "dfs = df_concat[['PostalCode', 'BN']]\n",
        "\n",
        "# Ignoring specific string value\n",
        "dfs = dfs[~(dfs['BN'] == \"Not assigned\")]"
      ],
      "execution_count": 0,
      "outputs": []
    },
    {
      "cell_type": "markdown",
      "metadata": {
        "id": "dOzIlprr2gMN",
        "colab_type": "text"
      },
      "source": [
        "## split value by special character, and replace special character to others"
      ]
    },
    {
      "cell_type": "code",
      "metadata": {
        "id": "0Eh99ZJb2gMR",
        "colab_type": "code",
        "colab": {}
      },
      "source": [
        "# split value by spacieal character - first column\n",
        "dfs['Borough'] = dfs['BN'].str.split('\\(', expand=True)[0]\n",
        "\n",
        "# split value by special character - second column, replace special character to other\n",
        "dfs['Neighborhood'] = dfs['BN'].str.split('\\(', expand=True)[1].replace(' /', ',', regex=True).replace('\\)', '', regex=True)\n",
        "\n",
        "# choose 3 columns as new Data Frame\n",
        "dfs = dfs[['PostalCode', 'Borough', 'Neighborhood']]"
      ],
      "execution_count": 0,
      "outputs": []
    },
    {
      "cell_type": "markdown",
      "metadata": {
        "id": "bJxRbHrF2gMV",
        "colab_type": "text"
      },
      "source": [
        "## Result "
      ]
    },
    {
      "cell_type": "code",
      "metadata": {
        "id": "I06SNT-Z2gMY",
        "colab_type": "code",
        "colab": {
          "base_uri": "https://localhost:8080/",
          "height": 421
        },
        "outputId": "49be3cc5-c460-4318-9609-4772ff82a82a"
      },
      "source": [
        "dfs.head(12)"
      ],
      "execution_count": 8,
      "outputs": [
        {
          "output_type": "execute_result",
          "data": {
            "text/html": [
              "<div>\n",
              "<style scoped>\n",
              "    .dataframe tbody tr th:only-of-type {\n",
              "        vertical-align: middle;\n",
              "    }\n",
              "\n",
              "    .dataframe tbody tr th {\n",
              "        vertical-align: top;\n",
              "    }\n",
              "\n",
              "    .dataframe thead th {\n",
              "        text-align: right;\n",
              "    }\n",
              "</style>\n",
              "<table border=\"1\" class=\"dataframe\">\n",
              "  <thead>\n",
              "    <tr style=\"text-align: right;\">\n",
              "      <th></th>\n",
              "      <th>PostalCode</th>\n",
              "      <th>Borough</th>\n",
              "      <th>Neighborhood</th>\n",
              "    </tr>\n",
              "  </thead>\n",
              "  <tbody>\n",
              "    <tr>\n",
              "      <th>1</th>\n",
              "      <td>M1B</td>\n",
              "      <td>Scarborough</td>\n",
              "      <td>Malvern, Rouge</td>\n",
              "    </tr>\n",
              "    <tr>\n",
              "      <th>2</th>\n",
              "      <td>M1C</td>\n",
              "      <td>Scarborough</td>\n",
              "      <td>Rouge Hill, Port Union, Highland Creek</td>\n",
              "    </tr>\n",
              "    <tr>\n",
              "      <th>3</th>\n",
              "      <td>M1E</td>\n",
              "      <td>Scarborough</td>\n",
              "      <td>Guildwood, Morningside, West Hill</td>\n",
              "    </tr>\n",
              "    <tr>\n",
              "      <th>4</th>\n",
              "      <td>M1G</td>\n",
              "      <td>Scarborough</td>\n",
              "      <td>Woburn</td>\n",
              "    </tr>\n",
              "    <tr>\n",
              "      <th>5</th>\n",
              "      <td>M1H</td>\n",
              "      <td>Scarborough</td>\n",
              "      <td>Cedarbrae</td>\n",
              "    </tr>\n",
              "    <tr>\n",
              "      <th>6</th>\n",
              "      <td>M1J</td>\n",
              "      <td>Scarborough</td>\n",
              "      <td>Scarborough Village</td>\n",
              "    </tr>\n",
              "    <tr>\n",
              "      <th>7</th>\n",
              "      <td>M1K</td>\n",
              "      <td>Scarborough</td>\n",
              "      <td>Kennedy Park, Ionview, East Birchmount Park</td>\n",
              "    </tr>\n",
              "    <tr>\n",
              "      <th>8</th>\n",
              "      <td>M1L</td>\n",
              "      <td>Scarborough</td>\n",
              "      <td>Golden Mile, Clairlea, Oakridge</td>\n",
              "    </tr>\n",
              "    <tr>\n",
              "      <th>9</th>\n",
              "      <td>M1M</td>\n",
              "      <td>Scarborough</td>\n",
              "      <td>Cliffside, Cliffcrest, Scarborough Village West</td>\n",
              "    </tr>\n",
              "    <tr>\n",
              "      <th>10</th>\n",
              "      <td>M1N</td>\n",
              "      <td>Scarborough</td>\n",
              "      <td>Birch Cliff, Cliffside West</td>\n",
              "    </tr>\n",
              "    <tr>\n",
              "      <th>11</th>\n",
              "      <td>M1P</td>\n",
              "      <td>Scarborough</td>\n",
              "      <td>Dorset Park, Wexford Heights, Scarborough Town...</td>\n",
              "    </tr>\n",
              "    <tr>\n",
              "      <th>12</th>\n",
              "      <td>M1R</td>\n",
              "      <td>Scarborough</td>\n",
              "      <td>Wexford, Maryvale</td>\n",
              "    </tr>\n",
              "  </tbody>\n",
              "</table>\n",
              "</div>"
            ],
            "text/plain": [
              "   PostalCode      Borough                                       Neighborhood\n",
              "1         M1B  Scarborough                                     Malvern, Rouge\n",
              "2         M1C  Scarborough             Rouge Hill, Port Union, Highland Creek\n",
              "3         M1E  Scarborough                  Guildwood, Morningside, West Hill\n",
              "4         M1G  Scarborough                                             Woburn\n",
              "5         M1H  Scarborough                                          Cedarbrae\n",
              "6         M1J  Scarborough                                Scarborough Village\n",
              "7         M1K  Scarborough        Kennedy Park, Ionview, East Birchmount Park\n",
              "8         M1L  Scarborough                    Golden Mile, Clairlea, Oakridge\n",
              "9         M1M  Scarborough    Cliffside, Cliffcrest, Scarborough Village West\n",
              "10        M1N  Scarborough                        Birch Cliff, Cliffside West\n",
              "11        M1P  Scarborough  Dorset Park, Wexford Heights, Scarborough Town...\n",
              "12        M1R  Scarborough                                  Wexford, Maryvale"
            ]
          },
          "metadata": {
            "tags": []
          },
          "execution_count": 8
        }
      ]
    },
    {
      "cell_type": "code",
      "metadata": {
        "id": "0XDzi-fI2gMf",
        "colab_type": "code",
        "colab": {
          "base_uri": "https://localhost:8080/",
          "height": 34
        },
        "outputId": "f8bd9684-0194-46a6-8826-99cfa19a4eba"
      },
      "source": [
        "dfs.shape"
      ],
      "execution_count": 9,
      "outputs": [
        {
          "output_type": "execute_result",
          "data": {
            "text/plain": [
              "(103, 3)"
            ]
          },
          "metadata": {
            "tags": []
          },
          "execution_count": 9
        }
      ]
    },
    {
      "cell_type": "code",
      "metadata": {
        "id": "NZRN5r1X2gMn",
        "colab_type": "code",
        "colab": {}
      },
      "source": [
        ""
      ],
      "execution_count": 0,
      "outputs": []
    }
  ]
}