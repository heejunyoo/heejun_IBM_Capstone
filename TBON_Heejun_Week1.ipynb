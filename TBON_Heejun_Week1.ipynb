{
 "cells": [
  {
   "cell_type": "markdown",
   "metadata": {
    "collapsed": true
   },
   "source": [
    "# The Battle Of Neighborhood - Week 1"
   ]
  },
  {
   "cell_type": "markdown",
   "metadata": {},
   "source": [
    "## Introduction & Business Problem"
   ]
  },
  {
   "cell_type": "markdown",
   "metadata": {},
   "source": [
    "### Introduction \n",
    "- Pre-analysis of market before Business Openning \n",
    "\n",
    "\n",
    "Seoul, officially the Seoul Special City, is the capital and largest metropolis of South Korea. \n",
    "Most of the largest business or market of South Korea is located in Seoul. \n",
    "It is not limited in Financial business, but also including other like Manufacturing, wholesale, retail, and more.\n",
    "\n",
    "\n",
    "Due to the above reason, it is the big challange to open business in Seoul. \n",
    "Business market is highly competitive but owner might grab the change to get high return from their business. \n",
    "\n",
    "\n",
    "The report will provide business insight in advance to start any kinds of business in Seoul by segmented, visualized information. "
   ]
  },
  {
   "cell_type": "markdown",
   "metadata": {},
   "source": [
    "### Business Problem \n",
    "- what kind of business you want to start? It will provide simple insight to start the business at specific location. \n",
    "\n",
    "\n",
    "There are several business venues can expend to real business industry. It can be a restaurant, a Cafe, or even a company in special industry. Based on the kind of venue, weighted segmentation standards are different. But most of small business owners do not know what kind of standards are impormant to set the point of business start. \n",
    "\n",
    "\n",
    "And also, it is highly required to understand compatitors to start business. For example, if owner would like to open a korean food restaurant, they need to get the information of the location nearby. \n",
    "\n",
    "\n",
    "Various information & factors need to be utilized for the above insight.\n",
    "1. Geolocation Data of Seoul District, Neighborhood\n",
    "2. Population Data of Seoul by District, Neighborhood\n",
    "3. Living Population Data of Seoul by Time, Age\n",
    "4. Geolocation Data of Seoul Venues\n",
    "  * Any convenient venues located nearby the place?\n",
    "  * Any competitors are located nearby the place?\n",
    "5. Segmentation of the Seoul District "
   ]
  },
  {
   "cell_type": "markdown",
   "metadata": {},
   "source": [
    "### Target\n",
    "\n",
    "This information insight will locate and recommend the neighborhood to business owner which is best 5 choices to start their business. \n"
   ]
  },
  {
   "cell_type": "code",
   "execution_count": null,
   "metadata": {},
   "outputs": [],
   "source": []
  }
 ],
 "metadata": {
  "kernelspec": {
   "display_name": "Python 3.6",
   "language": "python",
   "name": "python3"
  },
  "language_info": {
   "codemirror_mode": {
    "name": "ipython",
    "version": 3
   },
   "file_extension": ".py",
   "mimetype": "text/x-python",
   "name": "python",
   "nbconvert_exporter": "python",
   "pygments_lexer": "ipython3",
   "version": "3.6.9"
  }
 },
 "nbformat": 4,
 "nbformat_minor": 1
}
